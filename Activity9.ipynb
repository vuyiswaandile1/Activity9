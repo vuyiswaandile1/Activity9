{
 "cells": [
  {
   "cell_type": "code",
   "execution_count": 1,
   "id": "868cd593-b315-4e61-ba34-618f6fc42b90",
   "metadata": {},
   "outputs": [],
   "source": [
    "def bubble_sort(arr):\n",
    "    n = len(arr)\n",
    "    for i in range(n-1):\n",
    "        for j in range(0, n-i-1):\n",
    "            if arr[j] > arr[j+1]:\n",
    "                arr[j], arr[j+1] = arr[j+1], arr[j]"
   ]
  },
  {
   "cell_type": "code",
   "execution_count": 2,
   "id": "f4648448-6386-4633-9642-cde982b784fa",
   "metadata": {},
   "outputs": [],
   "source": [
    "def insertion_sort(arr):\n",
    "    for i in range(1, len(arr)):\n",
    "        key = arr[i]\n",
    "        j = i - 1\n",
    "        while j >= 0 and key < arr[j]:\n",
    "            arr[j + 1] = arr[j]\n",
    "            j -= 1\n",
    "        arr[j + 1] = key\n"
   ]
  },
  {
   "cell_type": "code",
   "execution_count": 3,
   "id": "094e0971-df48-488b-8ded-1dcbe44d5dd4",
   "metadata": {},
   "outputs": [
    {
     "name": "stdout",
     "output_type": "stream",
     "text": [
      "Bubble Sorted: [3, 7, 10, 11, 13, 26, 43]\n"
     ]
    }
   ],
   "source": [
    "elements = [10, 7, 26, 43, 3, 13, 11]\n",
    "bubble_sorted = elements.copy()\n",
    "bubble_sort(bubble_sorted)\n",
    "print(\"Bubble Sorted:\", bubble_sorted)"
   ]
  },
  {
   "cell_type": "code",
   "execution_count": 4,
   "id": "56783ff8-be6c-415f-8896-fb8f45e6069a",
   "metadata": {},
   "outputs": [
    {
     "name": "stdout",
     "output_type": "stream",
     "text": [
      "Insertion Sorted: [3, 7, 10, 11, 13, 26, 43]\n"
     ]
    }
   ],
   "source": [
    "insertion_sorted = elements.copy()\n",
    "insertion_sort(insertion_sorted)\n",
    "print(\"Insertion Sorted:\", insertion_sorted)"
   ]
  },
  {
   "cell_type": "code",
   "execution_count": 5,
   "id": "0f1baa8f-9c25-433d-94cf-afbedf016de7",
   "metadata": {},
   "outputs": [],
   "source": [
    "def binary_search(arr, target):\n",
    "    low = 0\n",
    "    high = len(arr) - 1\n",
    "    while low <= high:\n",
    "        mid = (low + high) // 2\n",
    "        if arr[mid] == target:\n",
    "            return mid\n",
    "        elif arr[mid] < target:\n",
    "            low = mid + 1\n",
    "        else:\n",
    "            high = mid - 1\n",
    "    return -1 "
   ]
  },
  {
   "cell_type": "code",
   "execution_count": 7,
   "id": "b9a8d745-4d7f-4d4d-927b-b011a14d8c9d",
   "metadata": {},
   "outputs": [
    {
     "name": "stdout",
     "output_type": "stream",
     "text": [
      "Element 13 found at index 4\n"
     ]
    }
   ],
   "source": [
    "elements = [3, 7, 10, 11, 13, 26, 43]\n",
    "target = 13\n",
    "index = binary_search(elements, target)\n",
    "if index != -1:\n",
    "    print(f\"Element {target} found at index {index}\")\n",
    "else:\n",
    "    print(f\"Element {target} not found\")\n"
   ]
  },
  {
   "cell_type": "code",
   "execution_count": null,
   "id": "ae38c814-dd36-46c6-878f-a30f6ae2babd",
   "metadata": {},
   "outputs": [],
   "source": []
  }
 ],
 "metadata": {
  "kernelspec": {
   "display_name": "Python 3 (ipykernel)",
   "language": "python",
   "name": "python3"
  },
  "language_info": {
   "codemirror_mode": {
    "name": "ipython",
    "version": 3
   },
   "file_extension": ".py",
   "mimetype": "text/x-python",
   "name": "python",
   "nbconvert_exporter": "python",
   "pygments_lexer": "ipython3",
   "version": "3.11.7"
  }
 },
 "nbformat": 4,
 "nbformat_minor": 5
}
